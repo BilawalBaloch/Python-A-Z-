{
  "cells": [
    {
      "cell_type": "markdown",
      "metadata": {
        "id": "view-in-github",
        "colab_type": "text"
      },
      "source": [
        "<a href=\"https://colab.research.google.com/github/BilawalBaloch/Python-A-Z-/blob/main/pythonstart.ipynb\" target=\"_parent\"><img src=\"https://colab.research.google.com/assets/colab-badge.svg\" alt=\"Open In Colab\"/></a>"
      ]
    },
    {
      "cell_type": "code",
      "execution_count": null,
      "metadata": {
        "colab": {
          "base_uri": "https://localhost:8080/"
        },
        "id": "99zSSp0RIkqk",
        "outputId": "3e7cc3ab-70db-4e3b-bb5f-9ac3d962a0a9"
      },
      "outputs": [
        {
          "name": "stdout",
          "output_type": "stream",
          "text": [
            "5\n",
            " HEllo world , my name is bilawal\n"
          ]
        }
      ],
      "source": [
        " A = 5\n",
        " B = \" HEllo world , my name is bilawal\"\n",
        " print (A)\n",
        " print (B)"
      ]
    },
    {
      "cell_type": "code",
      "execution_count": null,
      "metadata": {
        "id": "NYn_E_qfDJG5"
      },
      "outputs": [],
      "source": []
    },
    {
      "cell_type": "markdown",
      "metadata": {
        "id": "kbbWvHQ3KLTO"
      },
      "source": [
        "this is first day"
      ]
    },
    {
      "cell_type": "markdown",
      "metadata": {
        "id": "SFPk-AcLKaGt"
      },
      "source": [
        "its vriables"
      ]
    },
    {
      "cell_type": "code",
      "execution_count": null,
      "metadata": {
        "colab": {
          "base_uri": "https://localhost:8080/"
        },
        "id": "njUX8oGBKf1C",
        "outputId": "a91670e7-1cef-4ce8-eda1-67b40626a490"
      },
      "outputs": [
        {
          "name": "stdout",
          "output_type": "stream",
          "text": [
            "bilawal\n"
          ]
        }
      ],
      "source": [
        "a = 5\n",
        "a = \"bilawal\"\n",
        "print(a)"
      ]
    },
    {
      "cell_type": "markdown",
      "metadata": {
        "id": "k1JbfHiYK8s1"
      },
      "source": [
        "name variables"
      ]
    },
    {
      "cell_type": "markdown",
      "metadata": {
        "id": "gf3jOi8CLOw6"
      },
      "source": [
        "bilawal is variable , bilawal271 , bilawal_271 is also varibale , but in variable \" is a string \" , 3 is int , while 3.0 is float ."
      ]
    },
    {
      "cell_type": "markdown",
      "metadata": {
        "id": "lOQayub2MLT3"
      },
      "source": [
        "multi varibale *italicised text* , when you put [ ] then you can add multiple variables"
      ]
    },
    {
      "cell_type": "code",
      "execution_count": null,
      "metadata": {
        "colab": {
          "base_uri": "https://localhost:8080/"
        },
        "id": "aw1SB1JnMOXl",
        "outputId": "50f55670-7804-426b-c9b1-20395917013c"
      },
      "outputs": [
        {
          "name": "stdout",
          "output_type": "stream",
          "text": [
            "['karachi ', 'lahore ', 'multan ']\n"
          ]
        }
      ],
      "source": [
        "citiesname = [ \"karachi \" , \"lahore \" , \"multan \" ]\n",
        "print (citiesname)"
      ]
    },
    {
      "cell_type": "markdown",
      "metadata": {
        "id": "20LNjI5qM5qC"
      },
      "source": [
        "output varibale ,\n",
        "here you can but two or more varivale and can get output in single line by putting both or more in single print line eg = print ( a + b + c)"
      ]
    },
    {
      "cell_type": "markdown",
      "metadata": {
        "id": "IINVFbmtN9vA"
      },
      "source": [
        "**global avriables**"
      ]
    },
    {
      "cell_type": "code",
      "execution_count": null,
      "metadata": {
        "colab": {
          "base_uri": "https://localhost:8080/"
        },
        "id": "4KykOvpzYvcK",
        "outputId": "24fb95a5-05ba-48e2-9200-d02b7ce29f84"
      },
      "outputs": [
        {
          "name": "stdout",
          "output_type": "stream",
          "text": [
            "my name isbilawal\n",
            "my name is bilawal\n"
          ]
        }
      ],
      "source": [
        "x = \"ali\"\n",
        "def myfunc() :\n",
        "  global x\n",
        "  x = \"bilawal\"\n",
        "  print (\"my name is\" + x )\n",
        "myfunc ()\n",
        "\n",
        "\n",
        "print (\"my name is \" + x )"
      ]
    },
    {
      "cell_type": "markdown",
      "metadata": {
        "id": "pXMb6OMSZ5S0"
      },
      "source": [
        "**data type**\n",
        "Text Type:\tstr\n",
        "Numeric Types:\tint, float, complex\n",
        "Sequence Types:\tlist, tuple, range\n",
        "Mapping Type:\tdict\n",
        "Set Types:\tset, frozenset\n",
        "Boolean Type:\tbool\n",
        "Binary Types:\tbytes, bytearray, memoryview\n",
        "None Type:\tNoneType"
      ]
    },
    {
      "cell_type": "markdown",
      "metadata": {
        "id": "xC0u3wIDaP7W"
      },
      "source": [
        "numeric data type\n",
        "int 3\n",
        "float  1.2\n",
        "complex 1k 220bilawal"
      ]
    },
    {
      "cell_type": "code",
      "execution_count": null,
      "metadata": {
        "colab": {
          "base_uri": "https://localhost:8080/"
        },
        "id": "Mw0yl0pEaghN",
        "outputId": "dc6f4d70-26d1-49b8-c4dd-e11541bebd6a"
      },
      "outputs": [
        {
          "name": "stdout",
          "output_type": "stream",
          "text": [
            "<class 'float'>\n"
          ]
        }
      ],
      "source": [
        "x = 3.4\n",
        "print (type(x))"
      ]
    },
    {
      "cell_type": "code",
      "execution_count": null,
      "metadata": {
        "colab": {
          "base_uri": "https://localhost:8080/"
        },
        "id": "Zt1sCfIWaqPK",
        "outputId": "7d6c4c91-6e98-4ffa-8419-2a31648a519e"
      },
      "outputs": [
        {
          "name": "stdout",
          "output_type": "stream",
          "text": [
            "<class 'complex'>\n"
          ]
        }
      ],
      "source": [
        "b = 2j\n",
        "print(type(b))"
      ]
    },
    {
      "cell_type": "code",
      "execution_count": null,
      "metadata": {
        "colab": {
          "base_uri": "https://localhost:8080/"
        },
        "id": "-tInYznod8MG",
        "outputId": "e70f23de-8ee7-4e98-8952-273a9a570d18"
      },
      "outputs": [
        {
          "name": "stdout",
          "output_type": "stream",
          "text": [
            "6\n",
            "7.6\n",
            "(20+0j)\n",
            "<class 'int'>\n",
            "<class 'float'>\n",
            "<class 'complex'>\n"
          ]
        }
      ],
      "source": [
        "a = 6.6\n",
        "b = 7.6\n",
        "c = 20\n",
        "a = int (a)\n",
        "\n",
        "c = complex(c)\n",
        "print (a)\n",
        "print (b)\n",
        "print(c)\n",
        "print(type(a))\n",
        "print(type(b))\n",
        "print(type(c))"
      ]
    },
    {
      "cell_type": "markdown",
      "metadata": {
        "id": "DVv0hPGjgVHe"
      },
      "source": [
        "**random**"
      ]
    },
    {
      "cell_type": "code",
      "execution_count": null,
      "metadata": {
        "colab": {
          "base_uri": "https://localhost:8080/"
        },
        "id": "rqGl4DDUfmmp",
        "outputId": "e7c310ea-5d59-4348-8427-189ff969be58"
      },
      "outputs": [
        {
          "name": "stdout",
          "output_type": "stream",
          "text": [
            "11\n"
          ]
        }
      ],
      "source": [
        "import random\n",
        "print (random.randrange(1,22))"
      ]
    },
    {
      "cell_type": "code",
      "execution_count": null,
      "metadata": {
        "colab": {
          "base_uri": "https://localhost:8080/"
        },
        "id": "IBdK6Eubf0ZT",
        "outputId": "bef5152b-c735-4957-8b95-60ab65d59d3b"
      },
      "outputs": [
        {
          "name": "stdout",
          "output_type": "stream",
          "text": [
            "691\n"
          ]
        }
      ],
      "source": [
        "import random\n",
        "print (random.randrange (-322,987))"
      ]
    },
    {
      "cell_type": "markdown",
      "metadata": {
        "id": "Q2Tvxm3_gEOa"
      },
      "source": [
        "**string**"
      ]
    },
    {
      "cell_type": "code",
      "execution_count": null,
      "metadata": {
        "colab": {
          "base_uri": "https://localhost:8080/"
        },
        "id": "IJO2Faa5gSrp",
        "outputId": "e15d19aa-d6da-4417-d85a-a3215630379b"
      },
      "outputs": [
        {
          "name": "stdout",
          "output_type": "stream",
          "text": [
            "BILAWAL\n"
          ]
        }
      ],
      "source": [
        "a = \"bilawal\"\n",
        "print (a.upper())"
      ]
    },
    {
      "cell_type": "code",
      "execution_count": null,
      "metadata": {
        "colab": {
          "base_uri": "https://localhost:8080/"
        },
        "id": "Eb0LcKX8YaKz",
        "outputId": "6a31a771-4299-4d6e-9ad7-c19aa904a1a9"
      },
      "outputs": [
        {
          "name": "stdout",
          "output_type": "stream",
          "text": [
            "False\n",
            "True\n"
          ]
        }
      ],
      "source": [
        "str1 = \"Hello, world!\"\n",
        "str2 = \"I love Swift.\"\n",
        "str3 = \"Hello, world!\"\n",
        "\n",
        "# compare str1 and str2\n",
        "print(str1 == str2)\n",
        "\n",
        "# compare str1 and str3\n",
        "print(str1 == str3)"
      ]
    },
    {
      "cell_type": "code",
      "execution_count": null,
      "metadata": {
        "colab": {
          "base_uri": "https://localhost:8080/"
        },
        "id": "VBhf2piLgaql",
        "outputId": "4e6602bb-c2ac-486f-bb88-d3aa480128bd"
      },
      "outputs": [
        {
          "name": "stdout",
          "output_type": "stream",
          "text": [
            "bilawal is 25 177mm\n"
          ]
        }
      ],
      "source": [
        "a = \"bilawal is {age} {hight}\".format(age = \"25\" , hight = \"177mm\")\n",
        "print(a)"
      ]
    },
    {
      "cell_type": "code",
      "execution_count": null,
      "metadata": {
        "colab": {
          "base_uri": "https://localhost:8080/"
        },
        "id": "uIWWv1QVjS1o",
        "outputId": "187f65b9-4f76-48db-ee3b-d2620edeb574"
      },
      "outputs": [
        {
          "name": "stdout",
          "output_type": "stream",
          "text": [
            "bilawal is 25.His height is 177m.\n"
          ]
        }
      ],
      "source": [
        "age=25\n",
        "height='177m'\n",
        "\n",
        "print(f\"bilawal is {age}.His height is {height}.\")"
      ]
    },
    {
      "cell_type": "code",
      "execution_count": null,
      "metadata": {
        "colab": {
          "base_uri": "https://localhost:8080/"
        },
        "id": "5eSxoKkKlKxa",
        "outputId": "8dd26a8b-32ce-493b-d729-f2be8fd32687"
      },
      "outputs": [
        {
          "name": "stdout",
          "output_type": "stream",
          "text": [
            "bilawal /rmohb\n"
          ]
        }
      ],
      "source": [
        "a = \"bilawal /rmohb\"\n",
        "print (a)"
      ]
    },
    {
      "cell_type": "code",
      "execution_count": null,
      "metadata": {
        "colab": {
          "base_uri": "https://localhost:8080/"
        },
        "id": "rmbzh76ChfZq",
        "outputId": "bfc85327-f5e2-4f49-e389-4112137e3f6a"
      },
      "outputs": [
        {
          "name": "stdout",
          "output_type": "stream",
          "text": [
            "ahmed live in  H-13 with  bilawal\n"
          ]
        }
      ],
      "source": [
        "b = \"ahmed live in  {houselocation} with  {name}\".format( houselocation = \"H-13\" , name = \"bilawal\" )\n",
        "print(b)"
      ]
    },
    {
      "cell_type": "code",
      "execution_count": null,
      "metadata": {
        "colab": {
          "base_uri": "https://localhost:8080/"
        },
        "id": "8ZwQWnQLDLUA",
        "outputId": "33ecb56d-f2e1-4e3c-9271-33b19a225975"
      },
      "outputs": [
        {
          "name": "stdout",
          "output_type": "stream",
          "text": [
            "a is grater then b\n"
          ]
        }
      ],
      "source": [
        "a = 24\n",
        "b = 9\n",
        "if a   > b:\n",
        "  print(\"a is grater then b\")\n",
        "else:\n",
        "  print(\"b is greater then a \")"
      ]
    },
    {
      "cell_type": "code",
      "execution_count": null,
      "metadata": {
        "colab": {
          "base_uri": "https://localhost:8080/"
        },
        "id": "bMzjCiaHEWXI",
        "outputId": "9960cb76-e635-4325-dace-e56a3b4bd7df"
      },
      "outputs": [
        {
          "name": "stdout",
          "output_type": "stream",
          "text": [
            "False\n",
            "True\n",
            "False\n",
            "False\n"
          ]
        }
      ],
      "source": [
        "a  = 22\n",
        "b =  9\n",
        "c = 32\n",
        "print (a==b)\n",
        "print (a>b)\n",
        "print (b>a)\n",
        "print(a==c)"
      ]
    },
    {
      "cell_type": "code",
      "execution_count": null,
      "metadata": {
        "id": "u6NnH61gIBMZ"
      },
      "outputs": [],
      "source": [
        "**arithmatic operaters**"
      ]
    },
    {
      "cell_type": "code",
      "execution_count": null,
      "metadata": {
        "colab": {
          "base_uri": "https://localhost:8080/"
        },
        "id": "S2eoJ8yyEkzm",
        "outputId": "9cecf2b4-11e6-47fc-b552-66df27d400f2"
      },
      "outputs": [
        {
          "name": "stdout",
          "output_type": "stream",
          "text": [
            "58\n",
            "40\n",
            "441\n",
            "5.444444444444445\n",
            "5\n",
            "1628413597910449\n",
            "4\n"
          ]
        }
      ],
      "source": [
        "a = 49\n",
        "b = 9\n",
        "print (a+b)\n",
        "print(a-b)\n",
        "print(a*b)\n",
        "print(a/b)\n",
        "print(a//b)\n",
        "print(a**b)\n",
        "print(a%b)"
      ]
    },
    {
      "cell_type": "markdown",
      "metadata": {
        "id": "QoEoDaJ9IHM0"
      },
      "source": [
        "**assinment opertaerts**"
      ]
    },
    {
      "cell_type": "code",
      "execution_count": null,
      "metadata": {
        "colab": {
          "base_uri": "https://localhost:8080/"
        },
        "id": "42C2Frt4IRFs",
        "outputId": "d82fff1f-958b-4d1e-946b-96f9a40a53cf"
      },
      "outputs": [
        {
          "name": "stdout",
          "output_type": "stream",
          "text": [
            "False\n",
            "True\n",
            "False\n",
            "True\n",
            "False\n",
            "True\n"
          ]
        }
      ],
      "source": [
        "a = 33\n",
        "b = 60\n",
        "print(a==b)\n",
        "print(a !=b)\n",
        "print(a>b)\n",
        "print(a<b)\n",
        "print(a>=b)\n",
        "print(a<=b)\n"
      ]
    },
    {
      "cell_type": "code",
      "execution_count": null,
      "metadata": {
        "colab": {
          "base_uri": "https://localhost:8080/"
        },
        "id": "368nQtEbJDth",
        "outputId": "39e8b20e-7587-4903-fb83-0c095e2ce598"
      },
      "outputs": [
        {
          "name": "stdout",
          "output_type": "stream",
          "text": [
            "False\n",
            "False\n",
            "True\n"
          ]
        }
      ],
      "source": [
        "a = 44\n",
        "b = 34\n",
        "print (a>30  and b<22)\n",
        "print (not(a>30 or b <22))\n",
        "print (a>30 or b <22)"
      ]
    },
    {
      "cell_type": "code",
      "execution_count": null,
      "metadata": {
        "colab": {
          "base_uri": "https://localhost:8080/"
        },
        "id": "7rWtaI8MJmJO",
        "outputId": "b22a455a-5dfc-4316-962f-1420d19e6467"
      },
      "outputs": [
        {
          "name": "stdout",
          "output_type": "stream",
          "text": [
            "False\n",
            "True\n"
          ]
        }
      ],
      "source": [
        "a = 9\n",
        "b = 5\n",
        "print (a is b)\n",
        "print (a is not b)"
      ]
    },
    {
      "cell_type": "code",
      "execution_count": null,
      "metadata": {
        "colab": {
          "base_uri": "https://localhost:8080/"
        },
        "id": "uqz1kvslNlO4",
        "outputId": "438be3f8-c288-4146-eae3-39530b7ff0f9"
      },
      "outputs": [
        {
          "name": "stdout",
          "output_type": "stream",
          "text": [
            "4\n"
          ]
        }
      ],
      "source": [
        "a = 4\n",
        "b = 5\n",
        "print (a & b)"
      ]
    },
    {
      "cell_type": "code",
      "execution_count": null,
      "metadata": {
        "colab": {
          "background_save": true
        },
        "id": "kgjwYVx5PDxG",
        "outputId": "5b50ce43-1baa-4abc-9948-c47fa7810ede"
      },
      "outputs": [
        {
          "name": "stdout",
          "output_type": "stream",
          "text": [
            "{'pineapple', 1, 2, 'bnana', 3, 'apple'}\n"
          ]
        }
      ],
      "source": [
        "a = { \"bnana\" , \"apple\" , \"pineapple\"}\n",
        "b = { 1 ,2 ,3 }\n",
        "a.update(b)\n",
        "print (a)"
      ]
    },
    {
      "cell_type": "code",
      "execution_count": null,
      "metadata": {
        "colab": {
          "base_uri": "https://localhost:8080/"
        },
        "id": "3_MonpiNbwSH",
        "outputId": "a8c20956-76ba-4fcb-90da-940f82500fdf"
      },
      "outputs": [
        {
          "name": "stdout",
          "output_type": "stream",
          "text": [
            "{'bilawal', 'usama ', 'ahmed ', 'rawal', 'adun '}\n"
          ]
        }
      ],
      "source": [
        "xoo = {\"bilawal\" , \"ahmed \" , \"usama \" , \"adun \" , \"rawal\"}\n",
        "#x.remove(\"adun \")\n",
        "#x.append(\"hello\")\n",
        "#x.sort ()\n",
        "#x.remove (  \"adun \")\n",
        "xoo.pop\n",
        "print(xoo)"
      ]
    },
    {
      "cell_type": "code",
      "execution_count": null,
      "metadata": {
        "colab": {
          "base_uri": "https://localhost:8080/"
        },
        "id": "sPAUF2ZffQ5-",
        "outputId": "e535b61e-df85-4a59-9357-0bcd731ed920"
      },
      "outputs": [
        {
          "name": "stdout",
          "output_type": "stream",
          "text": [
            "1\n"
          ]
        }
      ],
      "source": [
        "only = (\"bio\"  , \"helo\" , \"mew\" , \"leo\")\n",
        "print (only.count(\"helo\"))"
      ]
    },
    {
      "cell_type": "markdown",
      "metadata": {
        "id": "4zFipCu0kEID"
      },
      "source": [
        "**Shopping cart**"
      ]
    },
    {
      "cell_type": "code",
      "execution_count": null,
      "metadata": {
        "colab": {
          "base_uri": "https://localhost:8080/",
          "height": 228
        },
        "id": "mSOTy5cRkI9u",
        "outputId": "85d0bd12-6162-4b29-dc4d-1b39d5f2895e"
      },
      "outputs": [
        {
          "name": "stdout",
          "output_type": "stream",
          "text": [
            "enter your food (or press q to exict :) banan\n",
            "enter your prices banan $ 33\n"
          ]
        },
        {
          "ename": "NameError",
          "evalue": "name 'foods' is not defined",
          "output_type": "error",
          "traceback": [
            "\u001b[0;31m---------------------------------------------------------------------------\u001b[0m",
            "\u001b[0;31mNameError\u001b[0m                                 Traceback (most recent call last)",
            "\u001b[0;32m<ipython-input-66-f5f0964cfbdf>\u001b[0m in \u001b[0;36m<cell line: 4>\u001b[0;34m()\u001b[0m\n\u001b[1;32m      8\u001b[0m          \u001b[0;32melse\u001b[0m\u001b[0;34m:\u001b[0m\u001b[0;34m\u001b[0m\u001b[0;34m\u001b[0m\u001b[0m\n\u001b[1;32m      9\u001b[0m                \u001b[0mprice\u001b[0m \u001b[0;34m=\u001b[0m  \u001b[0minput\u001b[0m\u001b[0;34m(\u001b[0m\u001b[0;34mf\"enter your prices {food} $ \"\u001b[0m\u001b[0;34m)\u001b[0m\u001b[0;34m\u001b[0m\u001b[0;34m\u001b[0m\u001b[0m\n\u001b[0;32m---> 10\u001b[0;31m                \u001b[0mfoods\u001b[0m\u001b[0;34m.\u001b[0m\u001b[0mappend\u001b[0m\u001b[0;34m(\u001b[0m\u001b[0mfood\u001b[0m\u001b[0;34m)\u001b[0m\u001b[0;34m\u001b[0m\u001b[0;34m\u001b[0m\u001b[0m\n\u001b[0m\u001b[1;32m     11\u001b[0m                \u001b[0mprices\u001b[0m\u001b[0;34m.\u001b[0m\u001b[0mappend\u001b[0m\u001b[0;34m(\u001b[0m\u001b[0mprice\u001b[0m\u001b[0;34m)\u001b[0m\u001b[0;34m\u001b[0m\u001b[0;34m\u001b[0m\u001b[0m\n",
            "\u001b[0;31mNameError\u001b[0m: name 'foods' is not defined"
          ]
        }
      ],
      "source": [
        "food = []\n",
        "prices = []\n",
        "total = 0\n",
        "while True:\n",
        "         food = input (\"enter your food (or press q to exict :) \")\n",
        "         if food.lower() == \"q\" :\n",
        "             break\n",
        "         else:\n",
        "               price =  input(f\"enter your prices {food} $ \")\n",
        "               foods.append(food)\n",
        "               prices.append(price)\n"
      ]
    },
    {
      "cell_type": "code",
      "execution_count": null,
      "metadata": {
        "colab": {
          "base_uri": "https://localhost:8080/"
        },
        "id": "ixeMHGrlv0bX",
        "outputId": "a3bd1a99-c854-476e-c506-5e3f777c3fa7"
      },
      "outputs": [
        {
          "name": "stdout",
          "output_type": "stream",
          "text": [
            "male\n"
          ]
        }
      ],
      "source": [
        "thisisdic = {\"name\" : \"bilawal\" , \"age\" : \"26\" , \"hight\" : \"177m\" , \"gender\" : \"male\"}\n",
        "print (thisisdic [\"gender\"])"
      ]
    },
    {
      "cell_type": "code",
      "execution_count": null,
      "metadata": {
        "colab": {
          "base_uri": "https://localhost:8080/"
        },
        "id": "zdqj5dYRCmSG",
        "outputId": "868757d6-72ae-43c6-b1c8-f7092df103eb"
      },
      "outputs": [
        {
          "name": "stdout",
          "output_type": "stream",
          "text": [
            "dict_keys(['pakistan', 'afganistan', 'KSA', 'iran'])\n"
          ]
        }
      ],
      "source": [
        "cnc = {\"pakistan\" : \"islamabad\" , \"afganistan\" : \"kabul\" , \"KSA\" : \"rayad\" , \"iran\" : \"tehran\"}\n",
        "#print(cnc[\"pakistan\"])\n",
        "x = cnc.keys()\n",
        "print( x )"
      ]
    },
    {
      "cell_type": "code",
      "execution_count": null,
      "metadata": {
        "colab": {
          "background_save": true,
          "base_uri": "https://localhost:8080/",
          "height": 176
        },
        "id": "RDmBbbAoGm0o",
        "outputId": "fa9eb345-129a-44c1-a023-085cf8206bea"
      },
      "outputs": [
        {
          "ename": "NameError",
          "evalue": "name 'nameitems' is not defined",
          "output_type": "error",
          "traceback": [
            "\u001b[0;31m---------------------------------------------------------------------------\u001b[0m",
            "\u001b[0;31mNameError\u001b[0m                                 Traceback (most recent call last)",
            "\u001b[0;32m<ipython-input-34-fe3e5c63796e>\u001b[0m in \u001b[0;36m<cell line: 2>\u001b[0;34m()\u001b[0m\n\u001b[1;32m      1\u001b[0m \u001b[0mname\u001b[0m \u001b[0;34m=\u001b[0m \u001b[0;34m{\u001b[0m \u001b[0;34m\"bilawal\"\u001b[0m \u001b[0;34m:\u001b[0m \u001b[0;34m\"271\"\u001b[0m \u001b[0;34m,\u001b[0m \u001b[0;34m\"zahir\"\u001b[0m \u001b[0;34m:\u001b[0m \u001b[0;34m\"277\"\u001b[0m \u001b[0;34m,\u001b[0m  \u001b[0;34m\"ahmed\"\u001b[0m \u001b[0;34m:\u001b[0m \u001b[0;34m\"290\"\u001b[0m \u001b[0;34m,\u001b[0m \u001b[0;34m\"raja\"\u001b[0m \u001b[0;34m:\u001b[0m \u001b[0;34m\"233\"\u001b[0m \u001b[0;34m}\u001b[0m\u001b[0;34m\u001b[0m\u001b[0;34m\u001b[0m\u001b[0m\n\u001b[0;32m----> 2\u001b[0;31m \u001b[0;32mfor\u001b[0m \u001b[0mkey\u001b[0m \u001b[0;34m,\u001b[0m \u001b[0mvalue\u001b[0m \u001b[0;32min\u001b[0m  \u001b[0mnameitems\u001b[0m\u001b[0;34m(\u001b[0m\u001b[0;34m)\u001b[0m\u001b[0;34m:\u001b[0m\u001b[0;34m\u001b[0m\u001b[0;34m\u001b[0m\u001b[0m\n\u001b[0m\u001b[1;32m      3\u001b[0m    \u001b[0mprint\u001b[0m \u001b[0;34m(\u001b[0m\u001b[0;34m\"f{key} : {value}\"\u001b[0m\u001b[0;34m)\u001b[0m\u001b[0;34m\u001b[0m\u001b[0;34m\u001b[0m\u001b[0m\n",
            "\u001b[0;31mNameError\u001b[0m: name 'nameitems' is not defined"
          ]
        }
      ],
      "source": [
        "name = { \"bilawal\" : \"271\" , \"zahir\" : \"277\" ,  \"ahmed\" : \"290\" , \"raja\" : \"233\" }\n",
        "for key , value in  nameitems():\n",
        "   print (\"f{key} : {value}\")"
      ]
    },
    {
      "cell_type": "code",
      "execution_count": null,
      "metadata": {
        "colab": {
          "base_uri": "https://localhost:8080/"
        },
        "id": "gI_VBYpj7aEJ",
        "outputId": "832e66fe-59e7-4e95-c33f-50baf880f49a"
      },
      "outputs": [
        {
          "name": "stdout",
          "output_type": "stream",
          "text": [
            "<class 'str'>\n",
            "<class 'int'>\n",
            "<class 'float'>\n"
          ]
        }
      ],
      "source": [
        "a = \"bilawal\"\n",
        "b = 4\n",
        "c = 4.5\n",
        "print (type(a))\n",
        "print (type(b))\n",
        "print (type(c))"
      ]
    },
    {
      "cell_type": "code",
      "execution_count": null,
      "metadata": {
        "colab": {
          "base_uri": "https://localhost:8080/"
        },
        "id": "rXN1phHn7_fk",
        "outputId": "c160e005-c4fe-4d2b-cc9f-81fa3ba68903"
      },
      "outputs": [
        {
          "name": "stdout",
          "output_type": "stream",
          "text": [
            "2\n",
            "3\n",
            "4\n",
            "5\n",
            "6\n",
            "7\n",
            "8\n",
            "9\n",
            "10\n",
            "11\n",
            "12\n",
            "13\n",
            "14\n",
            "15\n",
            "16\n",
            "17\n",
            "18\n",
            "19\n",
            "20\n",
            "21\n",
            "22\n"
          ]
        }
      ],
      "source": [
        "a = 2\n",
        "while a < 23:\n",
        "  print(a)\n",
        "  a += 1"
      ]
    },
    {
      "cell_type": "code",
      "execution_count": null,
      "metadata": {
        "colab": {
          "base_uri": "https://localhost:8080/"
        },
        "id": "dQx3Zz-y8UPh",
        "outputId": "75f0cf49-d850-449c-c57f-ccef8d66784d"
      },
      "outputs": [
        {
          "name": "stdout",
          "output_type": "stream",
          "text": [
            "1\n",
            "2\n",
            "3\n",
            "4\n",
            "5\n"
          ]
        }
      ],
      "source": [
        "i = 1\n",
        "while i < 6:\n",
        "  print(i)\n",
        "  i += 1\n"
      ]
    },
    {
      "cell_type": "code",
      "execution_count": null,
      "metadata": {
        "colab": {
          "base_uri": "https://localhost:8080/"
        },
        "id": "LfA_Dhw68f62",
        "outputId": "6acc13d1-5894-4af7-b27f-6a8dbaacad70"
      },
      "outputs": [
        {
          "name": "stdout",
          "output_type": "stream",
          "text": [
            "3\n",
            "4\n",
            "5\n",
            "6\n",
            "7\n",
            "8\n",
            "9\n",
            "10\n",
            "11\n"
          ]
        }
      ],
      "source": [
        "n = 3\n",
        "while n < 12 :\n",
        "  print(n)\n",
        "  n += 1"
      ]
    },
    {
      "cell_type": "code",
      "execution_count": null,
      "metadata": {
        "colab": {
          "base_uri": "https://localhost:8080/"
        },
        "id": "-RhKPF3z95Pm",
        "outputId": "50879af1-a2d7-4a1a-ea9f-dfc0a920347c"
      },
      "outputs": [
        {
          "name": "stdout",
          "output_type": "stream",
          "text": [
            "2\n",
            "3\n",
            "4\n",
            "5\n",
            "6\n",
            "7\n",
            "8\n",
            "9\n"
          ]
        }
      ],
      "source": [
        "b = 2\n",
        "while b < 13:\n",
        "  print (b)\n",
        "  if b==9:\n",
        "   break\n",
        "  b += 1"
      ]
    },
    {
      "cell_type": "code",
      "execution_count": null,
      "metadata": {
        "colab": {
          "base_uri": "https://localhost:8080/"
        },
        "id": "FayrTENn-b-2",
        "outputId": "304e935e-1e4d-4dd6-cfa9-c62284f5ee00"
      },
      "outputs": [
        {
          "name": "stdout",
          "output_type": "stream",
          "text": [
            "3\n",
            "4\n",
            "5\n",
            "6\n",
            "7\n",
            "8\n",
            "9\n",
            "10\n",
            "11\n",
            "12\n",
            "13\n",
            "14\n",
            "15\n",
            "16\n",
            "17\n",
            "18\n",
            "19\n"
          ]
        }
      ],
      "source": [
        "d = 3\n",
        "while d < 22:\n",
        "  print (d)\n",
        "  if d == 19:\n",
        "    break\n",
        "  d += 1"
      ]
    },
    {
      "cell_type": "code",
      "execution_count": null,
      "metadata": {
        "colab": {
          "base_uri": "https://localhost:8080/"
        },
        "id": "0N5wgYYc-usd",
        "outputId": "768c5d40-0996-48c8-f191-e9d65dd7c167"
      },
      "outputs": [
        {
          "name": "stdout",
          "output_type": "stream",
          "text": [
            "apple\n",
            "banana\n",
            "cherry\n"
          ]
        }
      ],
      "source": [
        "fruits = [\"apple\", \"banana\", \"cherry\"]\n",
        "for x in fruits:\n",
        "  print(x)"
      ]
    },
    {
      "cell_type": "code",
      "execution_count": null,
      "metadata": {
        "colab": {
          "base_uri": "https://localhost:8080/"
        },
        "id": "AH89pAW3_Jrt",
        "outputId": "5865f01e-2c78-4894-ba8f-97516d4299bf"
      },
      "outputs": [
        {
          "name": "stdout",
          "output_type": "stream",
          "text": [
            "0\n",
            "1\n",
            "2\n",
            "3\n",
            "4\n",
            "5\n",
            "6\n"
          ]
        }
      ],
      "source": [
        "for x in range(7):\n",
        "   print(x)"
      ]
    },
    {
      "cell_type": "code",
      "execution_count": null,
      "metadata": {
        "colab": {
          "base_uri": "https://localhost:8080/"
        },
        "id": "Q5d63AWaA-rE",
        "outputId": "6e35526f-c643-4795-9c3d-5ff08b12e554"
      },
      "outputs": [
        {
          "name": "stdout",
          "output_type": "stream",
          "text": [
            "3\n",
            "4\n",
            "5\n"
          ]
        }
      ],
      "source": [
        "a = 3\n",
        "while a < 10:\n",
        "  print(a)\n",
        "if a == 5:\n",
        "    break\n",
        "  a += 1"
      ]
    },
    {
      "cell_type": "code",
      "execution_count": null,
      "metadata": {
        "id": "d4jm851oF05U"
      },
      "outputs": [],
      "source": [
        "int = 2\n",
        "float = 4.5\n",
        "complex = 2j\n",
        "list = [ \" \"\"\"']\n",
        "touple = (\"\"\"\"\")\n",
        "sets = {\"\"\"\"\"\"}\n",
        "dic {\"\"\"\"\"}\n"
      ]
    },
    {
      "cell_type": "code",
      "execution_count": null,
      "metadata": {
        "id": "O6FC8CunHZac"
      },
      "outputs": [],
      "source": [
        "a  = 3\n",
        "while a > 22:\n",
        "  print(a)\n",
        "  a += 1"
      ]
    },
    {
      "cell_type": "markdown",
      "metadata": {
        "id": "XjXvtII1-dqe"
      },
      "source": [
        "**Funcation**"
      ]
    },
    {
      "cell_type": "code",
      "execution_count": null,
      "metadata": {
        "colab": {
          "base_uri": "https://localhost:8080/"
        },
        "id": "bL_oIrkx7xiy",
        "outputId": "3a4863b2-0c84-418b-9580-3263d2d45b52"
      },
      "outputs": [
        {
          "name": "stdout",
          "output_type": "stream",
          "text": [
            "you can call me  bilawal\n",
            "i live in ict\n",
            "i am fasting\n",
            "\n",
            "you can call me  ahmed\n",
            "i live in lahore\n",
            "i am not fasting\n",
            "\n",
            "you can call me  adun\n",
            "i live in multan\n",
            "i am may be fasting\n",
            "\n"
          ]
        }
      ],
      "source": [
        "def hi_new(name , living , doing):\n",
        "   print (f\"you can call me  {name}\")\n",
        "   print (f\"i live in {living}\")\n",
        "   print (f\"i am {doing}\")\n",
        "   print()\n",
        "hi_new(\"bilawal\" , \"ict\"  , 'fasting')\n",
        "\n",
        "hi_new(\"ahmed\"  , \"lahore\" , \"not fasting\")\n",
        "hi_new(\"adun\" , \"multan\" , \"may be fasting\")"
      ]
    },
    {
      "cell_type": "code",
      "execution_count": null,
      "metadata": {
        "colab": {
          "background_save": true
        },
        "id": "cEkYJz-vANcM",
        "outputId": "f093f2a8-d4e0-47d2-9036-e509c872793d"
      },
      "outputs": [
        {
          "ename": "SyntaxError",
          "evalue": "invalid syntax (<ipython-input-12-14df44811a1b>, line 4)",
          "output_type": "error",
          "traceback": [
            "\u001b[0;36m  File \u001b[0;32m\"<ipython-input-12-14df44811a1b>\"\u001b[0;36m, line \u001b[0;32m4\u001b[0m\n\u001b[0;31m    return = first + \"\" + last\u001b[0m\n\u001b[0m           ^\u001b[0m\n\u001b[0;31mSyntaxError\u001b[0m\u001b[0;31m:\u001b[0m invalid syntax\n"
          ]
        }
      ],
      "source": [
        "def create_name (first , last):\n",
        "   first = first.capitalize()\n",
        "   last = lst.capitalize()\n",
        "   return = first + \"\" + last\n",
        "full_name = create_name"
      ]
    },
    {
      "cell_type": "code",
      "source": [
        "import re\n",
        "txt = \"its rain in rawalpindi\"\n",
        "x = re.findall(\"r\" , txt)\n",
        "print(x)"
      ],
      "metadata": {
        "colab": {
          "base_uri": "https://localhost:8080/"
        },
        "id": "-ZrxOazF5lb6",
        "outputId": "9ca5d5ae-4b20-4557-f14b-5dcc0f17e152"
      },
      "execution_count": null,
      "outputs": [
        {
          "output_type": "stream",
          "name": "stdout",
          "text": [
            "['r', 'r']\n"
          ]
        }
      ]
    },
    {
      "cell_type": "code",
      "source": [
        "import re\n",
        "b = \"1 ,12 , 25 51 ,24 ,11 ,921 ,10 \"\n",
        "x = re.findall(\"1\" , b)\n",
        "print(x)"
      ],
      "metadata": {
        "colab": {
          "base_uri": "https://localhost:8080/"
        },
        "id": "ALhIgOIj6Ck9",
        "outputId": "2a979bce-05db-4dfc-abbe-8591a69618a8"
      },
      "execution_count": null,
      "outputs": [
        {
          "output_type": "stream",
          "name": "stdout",
          "text": [
            "['1', '1', '1', '1', '1', '1', '1']\n"
          ]
        }
      ]
    },
    {
      "cell_type": "code",
      "source": [
        "import re\n",
        "n = \"bilawal and ahmed \"\n",
        "x = re.search(\"ali\" , n)\n",
        "print(x)"
      ],
      "metadata": {
        "colab": {
          "base_uri": "https://localhost:8080/"
        },
        "id": "CMZPHU7a6YlF",
        "outputId": "1371d266-b2eb-42a6-f9aa-d3b0c617fb28"
      },
      "execution_count": null,
      "outputs": [
        {
          "output_type": "stream",
          "name": "stdout",
          "text": [
            "None\n"
          ]
        }
      ]
    },
    {
      "cell_type": "code",
      "source": [
        "import re\n",
        "n = \"bilawal and ahmed \"\n",
        "x = re.search(\"ahmed\" , n)\n",
        "print(x)"
      ],
      "metadata": {
        "colab": {
          "base_uri": "https://localhost:8080/"
        },
        "id": "DmWdsqZ_67qR",
        "outputId": "106d2ea7-7697-4660-f7d0-2cd8aba2d642"
      },
      "execution_count": null,
      "outputs": [
        {
          "output_type": "stream",
          "name": "stdout",
          "text": [
            "<re.Match object; span=(12, 17), match='ahmed'>\n"
          ]
        }
      ]
    },
    {
      "cell_type": "code",
      "source": [],
      "metadata": {
        "id": "ANAfOUqz6-rJ"
      },
      "execution_count": null,
      "outputs": []
    },
    {
      "cell_type": "code",
      "source": [
        "class myclass :\n",
        "   def __init__(self,adress,bank) :\n",
        "         self.adress= adress\n",
        "         self.bank= bank\n",
        "p1= myclass(29 , \"allied \" )\n",
        "print(p1.adress)\n",
        "print(p1.bank)"
      ],
      "metadata": {
        "colab": {
          "base_uri": "https://localhost:8080/"
        },
        "id": "_ZD0Bm2JFTKN",
        "outputId": "28f9cb78-9785-4d1c-ec93-d90b725bd7cb"
      },
      "execution_count": null,
      "outputs": [
        {
          "output_type": "stream",
          "name": "stdout",
          "text": [
            "29\n",
            "allied \n"
          ]
        }
      ]
    },
    {
      "cell_type": "code",
      "source": [],
      "metadata": {
        "id": "N6MP6qtCGet6"
      },
      "execution_count": null,
      "outputs": []
    },
    {
      "cell_type": "code",
      "source": [
        "class person :\n",
        "  def __init__(self , name , bank):\n",
        "    self.name = name\n",
        "    self.bank = bank\n",
        "\n",
        "  def __str__(self):\n",
        "    return f\"{self.name} , ({self.bank})\"\n",
        "\n",
        "    p1 = person (\"bilawal\" , \"allied\")\n",
        "print(p1)"
      ],
      "metadata": {
        "colab": {
          "base_uri": "https://localhost:8080/"
        },
        "id": "ks8jXv3nGtA0",
        "outputId": "a42005d0-8e59-4c00-8162-ce5779a170c1"
      },
      "execution_count": null,
      "outputs": [
        {
          "output_type": "stream",
          "name": "stdout",
          "text": [
            "John(36)\n"
          ]
        }
      ]
    },
    {
      "cell_type": "code",
      "source": [
        "import re\n",
        "txt = ''' In the first half of the 19th century, the region was appropriated by the East India Company, followed, after 1857, by 90 years of direct British rule, and ending with the creation of Pakistan in 1947, through the efforts, among others, of its future national poet Allama Iqbal and its founder, Muhammad Ali Jinna '''\n",
        "x = re.findall(\"00\" , txt)\n",
        "print(x)\n",
        "if x:\n",
        "  print(\"yes we find matching reslut\")\n",
        "else:\n",
        "    print(\"we are sorry , we dont have\")"
      ],
      "metadata": {
        "colab": {
          "base_uri": "https://localhost:8080/"
        },
        "id": "WPS2kNmfORbQ",
        "outputId": "fe92746a-f3c5-4a5c-ca0e-2df169b90bf5"
      },
      "execution_count": null,
      "outputs": [
        {
          "output_type": "stream",
          "name": "stdout",
          "text": [
            "[]\n",
            "we are sorry , we dont have\n"
          ]
        }
      ]
    }
  ],
  "metadata": {
    "colab": {
      "provenance": [],
      "authorship_tag": "ABX9TyOSR1fPeUVrAGq8RJXqtenE",
      "include_colab_link": true
    },
    "kernelspec": {
      "display_name": "Python 3",
      "name": "python3"
    },
    "language_info": {
      "name": "python"
    }
  },
  "nbformat": 4,
  "nbformat_minor": 0
}